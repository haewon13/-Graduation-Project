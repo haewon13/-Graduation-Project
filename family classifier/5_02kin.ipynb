{
  "nbformat": 4,
  "nbformat_minor": 0,
  "metadata": {
    "colab": {
      "name": "5_02kin.ipynb",
      "version": "0.3.2",
      "provenance": [],
      "collapsed_sections": []
    },
    "kernelspec": {
      "name": "python3",
      "display_name": "Python 3"
    }
  },
  "cells": [
    {
      "cell_type": "markdown",
      "metadata": {
        "id": "MOax8IFVa5lz",
        "colab_type": "text"
      },
      "source": [
        "## Keras tutorial : Functional API "
      ]
    },
    {
      "cell_type": "code",
      "metadata": {
        "id": "v5K9kf2cH0sV",
        "colab_type": "code",
        "outputId": "80d4d814-21f3-491e-f36d-e419d36cf0d8",
        "colab": {
          "base_uri": "https://localhost:8080/",
          "height": 354
        }
      },
      "source": [
        "from __future__ import absolute_import, division, print_function, unicode_literals\n",
        "\n",
        "\n",
        "import tensorflow as tf\n",
        "from tensorflow import keras\n",
        "from tensorflow.keras.layers import Dense, Flatten, Conv2D,MaxPooling2D,concatenate,Input\n",
        "from tensorflow.keras import Model\n",
        "from tensorflow.keras.models import Sequential\n",
        "\n",
        "\n",
        "inputs = keras.Input(shape=(784,), name='img')\n",
        "x = Dense(64, activation='relu')(inputs)\n",
        "x = Dense(64, activation='relu')(x)\n",
        "outputs = Dense(10, activation='softmax')(x)\n",
        "\n",
        "model = keras.Model(inputs=inputs, outputs=outputs, name='mnist_model')\n",
        "model.summary()"
      ],
      "execution_count": 0,
      "outputs": [
        {
          "output_type": "stream",
          "text": [
            "WARNING:tensorflow:From /usr/local/lib/python3.6/dist-packages/tensorflow/python/ops/resource_variable_ops.py:435: colocate_with (from tensorflow.python.framework.ops) is deprecated and will be removed in a future version.\n",
            "Instructions for updating:\n",
            "Colocations handled automatically by placer.\n",
            "_________________________________________________________________\n",
            "Layer (type)                 Output Shape              Param #   \n",
            "=================================================================\n",
            "img (InputLayer)             (None, 784)               0         \n",
            "_________________________________________________________________\n",
            "dense (Dense)                (None, 64)                50240     \n",
            "_________________________________________________________________\n",
            "dense_1 (Dense)              (None, 64)                4160      \n",
            "_________________________________________________________________\n",
            "dense_2 (Dense)              (None, 10)                650       \n",
            "=================================================================\n",
            "Total params: 55,050\n",
            "Trainable params: 55,050\n",
            "Non-trainable params: 0\n",
            "_________________________________________________________________\n"
          ],
          "name": "stdout"
        }
      ]
    },
    {
      "cell_type": "markdown",
      "metadata": {
        "id": "vR7zh-6ebHqP",
        "colab_type": "text"
      },
      "source": [
        "## Try 2 CNN share 1 FC in naive way \n",
        "\n"
      ]
    },
    {
      "cell_type": "code",
      "metadata": {
        "id": "6Lkg7v4VIlSX",
        "colab_type": "code",
        "outputId": "7529b131-7871-4095-80ff-e380b8f1db36",
        "colab": {
          "base_uri": "https://localhost:8080/",
          "height": 756
        }
      },
      "source": [
        "\n",
        "\n",
        "\n",
        "\n",
        "\n",
        "inputs=keras.Input(shape=(64,64,6))\n",
        "conv1=Conv2D(16, kernel_size=5, activation ='relu')(inputs)\n",
        "pool1=MaxPooling2D()(conv1)\n",
        "conv2=Conv2D(64, kernel_size=5, activation ='relu')(pool1)\n",
        "pool2=MaxPooling2D()(conv2)\n",
        "conv3=Conv2D(128, kernel_size=5, activation ='relu')(pool2)\n",
        "flat1=Flatten()(conv3)\n",
        "\n",
        "inputs2=keras.Input(shape=(64,64,6))\n",
        "conv1=Conv2D(16, kernel_size=5, activation ='relu')(inputs2)\n",
        "pool1=MaxPooling2D()(conv1)\n",
        "conv2=Conv2D(64, kernel_size=5, activation ='relu')(pool1)\n",
        "pool2=MaxPooling2D()(conv2)\n",
        "conv3=Conv2D(128, kernel_size=5, activation ='relu')(pool2)\n",
        "flat2=Flatten()(conv3)\n",
        "\n",
        "merge = concatenate([flat1, flat2])\n",
        "dense1 = Dense(640, activation='relu')(merge)\n",
        "dense2 = Dense(2, activation='softmax')(dense1)\n",
        "model = keras.Model(inputs=[inputs,inputs2], outputs=dense2)\n",
        "model.summary()\n",
        "\n",
        "\n",
        "keras.utils.plot_model(model, 'my_first_model.png')"
      ],
      "execution_count": 0,
      "outputs": [
        {
          "output_type": "stream",
          "text": [
            "__________________________________________________________________________________________________\n",
            "Layer (type)                    Output Shape         Param #     Connected to                     \n",
            "==================================================================================================\n",
            "input_9 (InputLayer)            (None, 64, 64, 6)    0                                            \n",
            "__________________________________________________________________________________________________\n",
            "input_10 (InputLayer)           (None, 64, 64, 6)    0                                            \n",
            "__________________________________________________________________________________________________\n",
            "conv2d_24 (Conv2D)              (None, 60, 60, 16)   2416        input_9[0][0]                    \n",
            "__________________________________________________________________________________________________\n",
            "conv2d_27 (Conv2D)              (None, 60, 60, 16)   2416        input_10[0][0]                   \n",
            "__________________________________________________________________________________________________\n",
            "max_pooling2d_16 (MaxPooling2D) (None, 30, 30, 16)   0           conv2d_24[0][0]                  \n",
            "__________________________________________________________________________________________________\n",
            "max_pooling2d_18 (MaxPooling2D) (None, 30, 30, 16)   0           conv2d_27[0][0]                  \n",
            "__________________________________________________________________________________________________\n",
            "conv2d_25 (Conv2D)              (None, 26, 26, 64)   25664       max_pooling2d_16[0][0]           \n",
            "__________________________________________________________________________________________________\n",
            "conv2d_28 (Conv2D)              (None, 26, 26, 64)   25664       max_pooling2d_18[0][0]           \n",
            "__________________________________________________________________________________________________\n",
            "max_pooling2d_17 (MaxPooling2D) (None, 13, 13, 64)   0           conv2d_25[0][0]                  \n",
            "__________________________________________________________________________________________________\n",
            "max_pooling2d_19 (MaxPooling2D) (None, 13, 13, 64)   0           conv2d_28[0][0]                  \n",
            "__________________________________________________________________________________________________\n",
            "conv2d_26 (Conv2D)              (None, 9, 9, 128)    204928      max_pooling2d_17[0][0]           \n",
            "__________________________________________________________________________________________________\n",
            "conv2d_29 (Conv2D)              (None, 9, 9, 128)    204928      max_pooling2d_19[0][0]           \n",
            "__________________________________________________________________________________________________\n",
            "flatten_8 (Flatten)             (None, 10368)        0           conv2d_26[0][0]                  \n",
            "__________________________________________________________________________________________________\n",
            "flatten_9 (Flatten)             (None, 10368)        0           conv2d_29[0][0]                  \n",
            "__________________________________________________________________________________________________\n",
            "concatenate_2 (Concatenate)     (None, 20736)        0           flatten_8[0][0]                  \n",
            "                                                                 flatten_9[0][0]                  \n",
            "__________________________________________________________________________________________________\n",
            "dense_7 (Dense)                 (None, 640)          13271680    concatenate_2[0][0]              \n",
            "__________________________________________________________________________________________________\n",
            "dense_8 (Dense)                 (None, 2)            1282        dense_7[0][0]                    \n",
            "==================================================================================================\n",
            "Total params: 13,738,978\n",
            "Trainable params: 13,738,978\n",
            "Non-trainable params: 0\n",
            "__________________________________________________________________________________________________\n"
          ],
          "name": "stdout"
        }
      ]
    },
    {
      "cell_type": "markdown",
      "metadata": {
        "id": "9F5KcjUQbYzj",
        "colab_type": "text"
      },
      "source": [
        "## Kinship model ( 10 cnn share 1 FC) with func define\n",
        "- Visualize  model structure "
      ]
    },
    {
      "cell_type": "code",
      "metadata": {
        "id": "fgMBfg9KK-qy",
        "colab_type": "code",
        "outputId": "76fc9b43-5b26-4d4d-9c50-e95b9ab200de",
        "colab": {
          "base_uri": "https://localhost:8080/",
          "height": 2868
        }
      },
      "source": [
        "inputs=[]\n",
        "flats=[]\n",
        "\n",
        "def base_cnn(imgs):\n",
        "  conv1=Conv2D(16, kernel_size=5, activation ='relu')(imgs)\n",
        "  pool1=MaxPooling2D()(conv1)\n",
        "  conv2=Conv2D(64, kernel_size=5, activation ='relu')(pool1)\n",
        "  pool2=MaxPooling2D()(conv2)\n",
        "  conv3=Conv2D(128, kernel_size=5, activation ='relu')(pool2)\n",
        "  flat=Flatten()(conv3)\n",
        "  return flat \n",
        "\n",
        "\n",
        "\n",
        "for i in range(10):\n",
        "  inputs.append(keras.Input(shape=(64,64,6)))\n",
        "  flats.append(base_cnn(inputs[i]))\n",
        "  \n",
        "\n",
        "merge = concatenate(flats)\n",
        "dense1 = Dense(640, activation='relu')(merge)\n",
        "dense2 = Dense(2, activation='softmax')(dense1)\n",
        "model = keras.Model(inputs=inputs, outputs=dense2)\n",
        "model.summary()\n",
        "\n",
        "\n",
        "keras.utils.plot_model(model, 'my_first_model.png')"
      ],
      "execution_count": 0,
      "outputs": [
        {
          "output_type": "stream",
          "text": [
            "__________________________________________________________________________________________________\n",
            "Layer (type)                    Output Shape         Param #     Connected to                     \n",
            "==================================================================================================\n",
            "input_230 (InputLayer)          (None, 64, 64, 6)    0                                            \n",
            "__________________________________________________________________________________________________\n",
            "input_231 (InputLayer)          (None, 64, 64, 6)    0                                            \n",
            "__________________________________________________________________________________________________\n",
            "input_232 (InputLayer)          (None, 64, 64, 6)    0                                            \n",
            "__________________________________________________________________________________________________\n",
            "input_233 (InputLayer)          (None, 64, 64, 6)    0                                            \n",
            "__________________________________________________________________________________________________\n",
            "input_234 (InputLayer)          (None, 64, 64, 6)    0                                            \n",
            "__________________________________________________________________________________________________\n",
            "input_235 (InputLayer)          (None, 64, 64, 6)    0                                            \n",
            "__________________________________________________________________________________________________\n",
            "input_236 (InputLayer)          (None, 64, 64, 6)    0                                            \n",
            "__________________________________________________________________________________________________\n",
            "input_237 (InputLayer)          (None, 64, 64, 6)    0                                            \n",
            "__________________________________________________________________________________________________\n",
            "input_238 (InputLayer)          (None, 64, 64, 6)    0                                            \n",
            "__________________________________________________________________________________________________\n",
            "input_239 (InputLayer)          (None, 64, 64, 6)    0                                            \n",
            "__________________________________________________________________________________________________\n",
            "conv2d_524 (Conv2D)             (None, 60, 60, 16)   2416        input_230[0][0]                  \n",
            "__________________________________________________________________________________________________\n",
            "conv2d_527 (Conv2D)             (None, 60, 60, 16)   2416        input_231[0][0]                  \n",
            "__________________________________________________________________________________________________\n",
            "conv2d_530 (Conv2D)             (None, 60, 60, 16)   2416        input_232[0][0]                  \n",
            "__________________________________________________________________________________________________\n",
            "conv2d_533 (Conv2D)             (None, 60, 60, 16)   2416        input_233[0][0]                  \n",
            "__________________________________________________________________________________________________\n",
            "conv2d_536 (Conv2D)             (None, 60, 60, 16)   2416        input_234[0][0]                  \n",
            "__________________________________________________________________________________________________\n",
            "conv2d_539 (Conv2D)             (None, 60, 60, 16)   2416        input_235[0][0]                  \n",
            "__________________________________________________________________________________________________\n",
            "conv2d_542 (Conv2D)             (None, 60, 60, 16)   2416        input_236[0][0]                  \n",
            "__________________________________________________________________________________________________\n",
            "conv2d_545 (Conv2D)             (None, 60, 60, 16)   2416        input_237[0][0]                  \n",
            "__________________________________________________________________________________________________\n",
            "conv2d_548 (Conv2D)             (None, 60, 60, 16)   2416        input_238[0][0]                  \n",
            "__________________________________________________________________________________________________\n",
            "conv2d_551 (Conv2D)             (None, 60, 60, 16)   2416        input_239[0][0]                  \n",
            "__________________________________________________________________________________________________\n",
            "max_pooling2d_348 (MaxPooling2D (None, 30, 30, 16)   0           conv2d_524[0][0]                 \n",
            "__________________________________________________________________________________________________\n",
            "max_pooling2d_350 (MaxPooling2D (None, 30, 30, 16)   0           conv2d_527[0][0]                 \n",
            "__________________________________________________________________________________________________\n",
            "max_pooling2d_352 (MaxPooling2D (None, 30, 30, 16)   0           conv2d_530[0][0]                 \n",
            "__________________________________________________________________________________________________\n",
            "max_pooling2d_354 (MaxPooling2D (None, 30, 30, 16)   0           conv2d_533[0][0]                 \n",
            "__________________________________________________________________________________________________\n",
            "max_pooling2d_356 (MaxPooling2D (None, 30, 30, 16)   0           conv2d_536[0][0]                 \n",
            "__________________________________________________________________________________________________\n",
            "max_pooling2d_358 (MaxPooling2D (None, 30, 30, 16)   0           conv2d_539[0][0]                 \n",
            "__________________________________________________________________________________________________\n",
            "max_pooling2d_360 (MaxPooling2D (None, 30, 30, 16)   0           conv2d_542[0][0]                 \n",
            "__________________________________________________________________________________________________\n",
            "max_pooling2d_362 (MaxPooling2D (None, 30, 30, 16)   0           conv2d_545[0][0]                 \n",
            "__________________________________________________________________________________________________\n",
            "max_pooling2d_364 (MaxPooling2D (None, 30, 30, 16)   0           conv2d_548[0][0]                 \n",
            "__________________________________________________________________________________________________\n",
            "max_pooling2d_366 (MaxPooling2D (None, 30, 30, 16)   0           conv2d_551[0][0]                 \n",
            "__________________________________________________________________________________________________\n",
            "conv2d_525 (Conv2D)             (None, 26, 26, 64)   25664       max_pooling2d_348[0][0]          \n",
            "__________________________________________________________________________________________________\n",
            "conv2d_528 (Conv2D)             (None, 26, 26, 64)   25664       max_pooling2d_350[0][0]          \n",
            "__________________________________________________________________________________________________\n",
            "conv2d_531 (Conv2D)             (None, 26, 26, 64)   25664       max_pooling2d_352[0][0]          \n",
            "__________________________________________________________________________________________________\n",
            "conv2d_534 (Conv2D)             (None, 26, 26, 64)   25664       max_pooling2d_354[0][0]          \n",
            "__________________________________________________________________________________________________\n",
            "conv2d_537 (Conv2D)             (None, 26, 26, 64)   25664       max_pooling2d_356[0][0]          \n",
            "__________________________________________________________________________________________________\n",
            "conv2d_540 (Conv2D)             (None, 26, 26, 64)   25664       max_pooling2d_358[0][0]          \n",
            "__________________________________________________________________________________________________\n",
            "conv2d_543 (Conv2D)             (None, 26, 26, 64)   25664       max_pooling2d_360[0][0]          \n",
            "__________________________________________________________________________________________________\n",
            "conv2d_546 (Conv2D)             (None, 26, 26, 64)   25664       max_pooling2d_362[0][0]          \n",
            "__________________________________________________________________________________________________\n",
            "conv2d_549 (Conv2D)             (None, 26, 26, 64)   25664       max_pooling2d_364[0][0]          \n",
            "__________________________________________________________________________________________________\n",
            "conv2d_552 (Conv2D)             (None, 26, 26, 64)   25664       max_pooling2d_366[0][0]          \n",
            "__________________________________________________________________________________________________\n",
            "max_pooling2d_349 (MaxPooling2D (None, 13, 13, 64)   0           conv2d_525[0][0]                 \n",
            "__________________________________________________________________________________________________\n",
            "max_pooling2d_351 (MaxPooling2D (None, 13, 13, 64)   0           conv2d_528[0][0]                 \n",
            "__________________________________________________________________________________________________\n",
            "max_pooling2d_353 (MaxPooling2D (None, 13, 13, 64)   0           conv2d_531[0][0]                 \n",
            "__________________________________________________________________________________________________\n",
            "max_pooling2d_355 (MaxPooling2D (None, 13, 13, 64)   0           conv2d_534[0][0]                 \n",
            "__________________________________________________________________________________________________\n",
            "max_pooling2d_357 (MaxPooling2D (None, 13, 13, 64)   0           conv2d_537[0][0]                 \n",
            "__________________________________________________________________________________________________\n",
            "max_pooling2d_359 (MaxPooling2D (None, 13, 13, 64)   0           conv2d_540[0][0]                 \n",
            "__________________________________________________________________________________________________\n",
            "max_pooling2d_361 (MaxPooling2D (None, 13, 13, 64)   0           conv2d_543[0][0]                 \n",
            "__________________________________________________________________________________________________\n",
            "max_pooling2d_363 (MaxPooling2D (None, 13, 13, 64)   0           conv2d_546[0][0]                 \n",
            "__________________________________________________________________________________________________\n",
            "max_pooling2d_365 (MaxPooling2D (None, 13, 13, 64)   0           conv2d_549[0][0]                 \n",
            "__________________________________________________________________________________________________\n",
            "max_pooling2d_367 (MaxPooling2D (None, 13, 13, 64)   0           conv2d_552[0][0]                 \n",
            "__________________________________________________________________________________________________\n",
            "conv2d_526 (Conv2D)             (None, 9, 9, 128)    204928      max_pooling2d_349[0][0]          \n",
            "__________________________________________________________________________________________________\n",
            "conv2d_529 (Conv2D)             (None, 9, 9, 128)    204928      max_pooling2d_351[0][0]          \n",
            "__________________________________________________________________________________________________\n",
            "conv2d_532 (Conv2D)             (None, 9, 9, 128)    204928      max_pooling2d_353[0][0]          \n",
            "__________________________________________________________________________________________________\n",
            "conv2d_535 (Conv2D)             (None, 9, 9, 128)    204928      max_pooling2d_355[0][0]          \n",
            "__________________________________________________________________________________________________\n",
            "conv2d_538 (Conv2D)             (None, 9, 9, 128)    204928      max_pooling2d_357[0][0]          \n",
            "__________________________________________________________________________________________________\n",
            "conv2d_541 (Conv2D)             (None, 9, 9, 128)    204928      max_pooling2d_359[0][0]          \n",
            "__________________________________________________________________________________________________\n",
            "conv2d_544 (Conv2D)             (None, 9, 9, 128)    204928      max_pooling2d_361[0][0]          \n",
            "__________________________________________________________________________________________________\n",
            "conv2d_547 (Conv2D)             (None, 9, 9, 128)    204928      max_pooling2d_363[0][0]          \n",
            "__________________________________________________________________________________________________\n",
            "conv2d_550 (Conv2D)             (None, 9, 9, 128)    204928      max_pooling2d_365[0][0]          \n",
            "__________________________________________________________________________________________________\n",
            "conv2d_553 (Conv2D)             (None, 9, 9, 128)    204928      max_pooling2d_367[0][0]          \n",
            "__________________________________________________________________________________________________\n",
            "flatten_172 (Flatten)           (None, 10368)        0           conv2d_526[0][0]                 \n",
            "__________________________________________________________________________________________________\n",
            "flatten_173 (Flatten)           (None, 10368)        0           conv2d_529[0][0]                 \n",
            "__________________________________________________________________________________________________\n",
            "flatten_174 (Flatten)           (None, 10368)        0           conv2d_532[0][0]                 \n",
            "__________________________________________________________________________________________________\n",
            "flatten_175 (Flatten)           (None, 10368)        0           conv2d_535[0][0]                 \n",
            "__________________________________________________________________________________________________\n",
            "flatten_176 (Flatten)           (None, 10368)        0           conv2d_538[0][0]                 \n",
            "__________________________________________________________________________________________________\n",
            "flatten_177 (Flatten)           (None, 10368)        0           conv2d_541[0][0]                 \n",
            "__________________________________________________________________________________________________\n",
            "flatten_178 (Flatten)           (None, 10368)        0           conv2d_544[0][0]                 \n",
            "__________________________________________________________________________________________________\n",
            "flatten_179 (Flatten)           (None, 10368)        0           conv2d_547[0][0]                 \n",
            "__________________________________________________________________________________________________\n",
            "flatten_180 (Flatten)           (None, 10368)        0           conv2d_550[0][0]                 \n",
            "__________________________________________________________________________________________________\n",
            "flatten_181 (Flatten)           (None, 10368)        0           conv2d_553[0][0]                 \n",
            "__________________________________________________________________________________________________\n",
            "concatenate_19 (Concatenate)    (None, 103680)       0           flatten_172[0][0]                \n",
            "                                                                 flatten_173[0][0]                \n",
            "                                                                 flatten_174[0][0]                \n",
            "                                                                 flatten_175[0][0]                \n",
            "                                                                 flatten_176[0][0]                \n",
            "                                                                 flatten_177[0][0]                \n",
            "                                                                 flatten_178[0][0]                \n",
            "                                                                 flatten_179[0][0]                \n",
            "                                                                 flatten_180[0][0]                \n",
            "                                                                 flatten_181[0][0]                \n",
            "__________________________________________________________________________________________________\n",
            "dense_41 (Dense)                (None, 640)          66355840    concatenate_19[0][0]             \n",
            "__________________________________________________________________________________________________\n",
            "dense_42 (Dense)                (None, 2)            1282        dense_41[0][0]                   \n",
            "==================================================================================================\n",
            "Total params: 68,687,202\n",
            "Trainable params: 68,687,202\n",
            "Non-trainable params: 0\n",
            "__________________________________________________________________________________________________\n"
          ],
          "name": "stdout"
        }
      ]
    },
    {
      "cell_type": "markdown",
      "metadata": {
        "id": "ZTnpX5CGbvs_",
        "colab_type": "text"
      },
      "source": [
        "## Try Training with any data \n",
        "- mnist (but with incorrect labeling)"
      ]
    },
    {
      "cell_type": "code",
      "metadata": {
        "id": "u7dLpc-uSSym",
        "colab_type": "code",
        "outputId": "2cf0b4d7-182a-4113-b369-a526484b9d72",
        "colab": {
          "base_uri": "https://localhost:8080/",
          "height": 228
        }
      },
      "source": [
        "\n",
        "## input shape and softmax result number change\n",
        "inputs=[]\n",
        "flats=[]\n",
        "def base_cnn(imgs):\n",
        "  conv1=Conv2D(16, kernel_size=5, padding='same',activation ='relu')(imgs)\n",
        "  pool1=MaxPooling2D()(conv1)\n",
        "  conv2=Conv2D(64, kernel_size=5,padding='same', activation ='relu')(pool1)\n",
        "  pool2=MaxPooling2D()(conv2)\n",
        "  conv3=Conv2D(128, kernel_size=5,padding='same', activation ='relu')(pool2)\n",
        "  flat=Flatten()(conv3)\n",
        "  return flat \n",
        "\n",
        "\n",
        "\n",
        "for i in range(10):\n",
        "  inputs.append(keras.Input(shape=(28,28,1)))\n",
        "  flats.append(base_cnn(inputs[i]))\n",
        "  \n",
        "\n",
        "merge = concatenate(flats)\n",
        "dense1 = Dense(640, activation='relu')(merge)\n",
        "dense2 = Dense(10, activation='softmax')(dense1)\n",
        "model = keras.Model(inputs=inputs, outputs=dense2)\n",
        "\n",
        "##\n",
        "\n",
        "(x_train, y_train), (x_test, y_test) = keras.datasets.mnist.load_data()\n",
        "x_train = x_train.reshape(60000, 28,28,1).astype('float32') / 255\n",
        "x_test = x_test.reshape(10000, 28,28,1).astype('float32') / 255\n",
        "x=[]\n",
        "t=[]\n",
        "\n",
        "for i in range(10):\n",
        "  x.append(x_train[i*500:(i+1)*500])\n",
        "  t.append(x_test[i*500:(i+1)*500])\n",
        "  \n",
        "y=y_train[:500]\n",
        "y_t=y_test[:500]\n",
        "  \n",
        "\n",
        "model.compile(loss='sparse_categorical_crossentropy', optimizer='adam', metrics=['accuracy'])\n",
        "history = model.fit(x, y,\n",
        "                    batch_size=64,\n",
        "                    epochs=5)\n",
        "test_scores = model.evaluate(t, y_t, verbose=0)\n",
        "print('Test loss:', test_scores[0])\n",
        "print('Test accuracy:', test_scores[1])"
      ],
      "execution_count": 0,
      "outputs": [
        {
          "output_type": "stream",
          "text": [
            "Epoch 1/5\n",
            "500/500 [==============================] - 23s 45ms/sample - loss: 3.0361 - acc: 0.2340\n",
            "Epoch 2/5\n",
            "500/500 [==============================] - 20s 41ms/sample - loss: 1.9471 - acc: 0.4780\n",
            "Epoch 3/5\n",
            "500/500 [==============================] - 21s 41ms/sample - loss: 0.8881 - acc: 0.7500\n",
            "Epoch 4/5\n",
            "500/500 [==============================] - 20s 40ms/sample - loss: 0.5538 - acc: 0.8360\n",
            "Epoch 5/5\n",
            "500/500 [==============================] - 20s 40ms/sample - loss: 0.4362 - acc: 0.8740\n",
            "Test loss: 0.4607326412200928\n",
            "Test accuracy: 0.852\n"
          ],
          "name": "stdout"
        }
      ]
    },
    {
      "cell_type": "markdown",
      "metadata": {
        "id": "-VA2-DuNd6X2",
        "colab_type": "text"
      },
      "source": [
        "## 데이터 마련 후 사용할 부분\n",
        "\n",
        "<추가>\n",
        "The CNN is trained by back-propagation with logistic loss over\n",
        "the predicted scores using the soft-max function. \n",
        "To initialize weights, we use a Gaussian distribution with zero mean and a standard deviation of 0.01. The biases are initialized as\n",
        "zeros. In each iteration, we update all the weights after learning the mini-batch with the size of 128. In all layers, the momentum is set as 0.9 and the weight decay is set as 0.005. To expand the training set, we also randomly flip images and add grayscales during training."
      ]
    },
    {
      "cell_type": "code",
      "metadata": {
        "id": "nfLTDAGJcVkf",
        "colab_type": "code",
        "outputId": "c8f3e815-a060-4142-88e7-cea8ec8fa657",
        "colab": {
          "base_uri": "https://localhost:8080/",
          "height": 386
        }
      },
      "source": [
        "\n",
        "\n",
        "\n",
        "x_train=[] #10 lists of imgs each list size (datanum,64,64,6)\n",
        "y_train=[] #1 label per 10 imgs 0(not family) or 1(family)\n",
        "x_test=[]\n",
        "y_test=[]\n",
        "\n",
        "\n",
        "model.compile(loss='sparse_categorical_crossentropy', optimizer='adam', metrics=['accuracy'])\n",
        "history = model.fit(x_train, y_train,\n",
        "                    batch_size=128,\n",
        "                    epochs=20)\n",
        "test_scores = model.evaluate(x_test,y_test , verbose=0)\n",
        "print('Test loss:', test_scores[0])\n",
        "print('Test accuracy:', test_scores[1])"
      ],
      "execution_count": 0,
      "outputs": [
        {
          "output_type": "error",
          "ename": "ValueError",
          "evalue": "ignored",
          "traceback": [
            "\u001b[0;31m---------------------------------------------------------------------------\u001b[0m",
            "\u001b[0;31mValueError\u001b[0m                                Traceback (most recent call last)",
            "\u001b[0;32m<ipython-input-41-8e2368c3335b>\u001b[0m in \u001b[0;36m<module>\u001b[0;34m()\u001b[0m\n\u001b[1;32m     11\u001b[0m history = model.fit(x_train, y_train,\n\u001b[1;32m     12\u001b[0m                     \u001b[0mbatch_size\u001b[0m\u001b[0;34m=\u001b[0m\u001b[0;36m128\u001b[0m\u001b[0;34m,\u001b[0m\u001b[0;34m\u001b[0m\u001b[0;34m\u001b[0m\u001b[0m\n\u001b[0;32m---> 13\u001b[0;31m                     epochs=20)\n\u001b[0m\u001b[1;32m     14\u001b[0m \u001b[0mtest_scores\u001b[0m \u001b[0;34m=\u001b[0m \u001b[0mmodel\u001b[0m\u001b[0;34m.\u001b[0m\u001b[0mevaluate\u001b[0m\u001b[0;34m(\u001b[0m\u001b[0mx_test\u001b[0m\u001b[0;34m,\u001b[0m\u001b[0my_test\u001b[0m \u001b[0;34m,\u001b[0m \u001b[0mverbose\u001b[0m\u001b[0;34m=\u001b[0m\u001b[0;36m0\u001b[0m\u001b[0;34m)\u001b[0m\u001b[0;34m\u001b[0m\u001b[0;34m\u001b[0m\u001b[0m\n\u001b[1;32m     15\u001b[0m \u001b[0mprint\u001b[0m\u001b[0;34m(\u001b[0m\u001b[0;34m'Test loss:'\u001b[0m\u001b[0;34m,\u001b[0m \u001b[0mtest_scores\u001b[0m\u001b[0;34m[\u001b[0m\u001b[0;36m0\u001b[0m\u001b[0;34m]\u001b[0m\u001b[0;34m)\u001b[0m\u001b[0;34m\u001b[0m\u001b[0;34m\u001b[0m\u001b[0m\n",
            "\u001b[0;32m/usr/local/lib/python3.6/dist-packages/tensorflow/python/keras/engine/training.py\u001b[0m in \u001b[0;36mfit\u001b[0;34m(self, x, y, batch_size, epochs, verbose, callbacks, validation_split, validation_data, shuffle, class_weight, sample_weight, initial_epoch, steps_per_epoch, validation_steps, max_queue_size, workers, use_multiprocessing, **kwargs)\u001b[0m\n\u001b[1;32m    774\u001b[0m         \u001b[0msteps\u001b[0m\u001b[0;34m=\u001b[0m\u001b[0msteps_per_epoch\u001b[0m\u001b[0;34m,\u001b[0m\u001b[0;34m\u001b[0m\u001b[0;34m\u001b[0m\u001b[0m\n\u001b[1;32m    775\u001b[0m         \u001b[0mvalidation_split\u001b[0m\u001b[0;34m=\u001b[0m\u001b[0mvalidation_split\u001b[0m\u001b[0;34m,\u001b[0m\u001b[0;34m\u001b[0m\u001b[0;34m\u001b[0m\u001b[0m\n\u001b[0;32m--> 776\u001b[0;31m         shuffle=shuffle)\n\u001b[0m\u001b[1;32m    777\u001b[0m \u001b[0;34m\u001b[0m\u001b[0m\n\u001b[1;32m    778\u001b[0m     \u001b[0;31m# Prepare validation data.\u001b[0m\u001b[0;34m\u001b[0m\u001b[0;34m\u001b[0m\u001b[0;34m\u001b[0m\u001b[0m\n",
            "\u001b[0;32m/usr/local/lib/python3.6/dist-packages/tensorflow/python/keras/engine/training.py\u001b[0m in \u001b[0;36m_standardize_user_data\u001b[0;34m(self, x, y, sample_weight, class_weight, batch_size, check_steps, steps_name, steps, validation_split, shuffle)\u001b[0m\n\u001b[1;32m   2202\u001b[0m     \u001b[0;31m# Validates `steps` argument based on x's type.\u001b[0m\u001b[0;34m\u001b[0m\u001b[0;34m\u001b[0m\u001b[0;34m\u001b[0m\u001b[0m\n\u001b[1;32m   2203\u001b[0m     \u001b[0;32mif\u001b[0m \u001b[0mcheck_steps\u001b[0m\u001b[0;34m:\u001b[0m\u001b[0;34m\u001b[0m\u001b[0;34m\u001b[0m\u001b[0m\n\u001b[0;32m-> 2204\u001b[0;31m       \u001b[0mtraining_utils\u001b[0m\u001b[0;34m.\u001b[0m\u001b[0mcheck_steps_argument\u001b[0m\u001b[0;34m(\u001b[0m\u001b[0mx\u001b[0m\u001b[0;34m,\u001b[0m \u001b[0msteps\u001b[0m\u001b[0;34m,\u001b[0m \u001b[0msteps_name\u001b[0m\u001b[0;34m)\u001b[0m\u001b[0;34m\u001b[0m\u001b[0;34m\u001b[0m\u001b[0m\n\u001b[0m\u001b[1;32m   2205\u001b[0m \u001b[0;34m\u001b[0m\u001b[0m\n\u001b[1;32m   2206\u001b[0m     \u001b[0mis_x_eager_iterator\u001b[0m \u001b[0;34m=\u001b[0m \u001b[0misinstance\u001b[0m\u001b[0;34m(\u001b[0m\u001b[0mx\u001b[0m\u001b[0;34m,\u001b[0m \u001b[0miterator_ops\u001b[0m\u001b[0;34m.\u001b[0m\u001b[0mEagerIterator\u001b[0m\u001b[0;34m)\u001b[0m\u001b[0;34m\u001b[0m\u001b[0;34m\u001b[0m\u001b[0m\n",
            "\u001b[0;32m/usr/local/lib/python3.6/dist-packages/tensorflow/python/keras/engine/training_utils.py\u001b[0m in \u001b[0;36mcheck_steps_argument\u001b[0;34m(input_data, steps, steps_name)\u001b[0m\n\u001b[1;32m    958\u001b[0m       raise ValueError('When using {input_type} as input to a model, you should'\n\u001b[1;32m    959\u001b[0m                        ' specify the `{steps_name}` argument.'.format(\n\u001b[0;32m--> 960\u001b[0;31m                            input_type=input_type_str, steps_name=steps_name))\n\u001b[0m\u001b[1;32m    961\u001b[0m     \u001b[0;32mreturn\u001b[0m \u001b[0;32mTrue\u001b[0m\u001b[0;34m\u001b[0m\u001b[0;34m\u001b[0m\u001b[0m\n\u001b[1;32m    962\u001b[0m   \u001b[0;32mreturn\u001b[0m \u001b[0;32mFalse\u001b[0m\u001b[0;34m\u001b[0m\u001b[0;34m\u001b[0m\u001b[0m\n",
            "\u001b[0;31mValueError\u001b[0m: When using data tensors as input to a model, you should specify the `steps_per_epoch` argument."
          ]
        }
      ]
    },
    {
      "cell_type": "markdown",
      "metadata": {
        "id": "JyYj7OB4eIFk",
        "colab_type": "text"
      },
      "source": [
        "# 데이터 마련 \n",
        "\n",
        "- Kinface ||  각 250쌍: Father-Son (F-S), Father-Daughter (F-D), Mother-Son (M-S), and Mother-Daughter (M-D) =>총 1000쌍\n",
        "\n",
        "\n",
        "1. 각 사진 => 10개 부분 이미지으로\n",
        "\n",
        "> 5가지:  왼쪽 눈, 오른쪽 눈, the corners of the mouth , nose\n",
        "- CNN으로 얼굴의 각 포인트 점(output) 찾기\n",
        "https://github.com/mysong105/Facial-Keypoint-Detection/blob/master/Facial-Keypoint-Detection.ipynb  참고 (Data: kaggle)(https://www.kaggle.com/karanjakhar/facial-keypoint-detection)\n",
        "- 점들간 비율에 따라 사진 자르고 reshape (64,64,3)\n",
        "\n",
        "\n",
        ">5가지(more complementary information): 전체 이미지, top-left corner, the top-right corner, bottom-left corner, bottom-right corner\n",
        "\n",
        "2. 10개의 각 사진에 대해 가족 관계 두 사진을 합치면 label 1추가, 가족관계 아닌 경우 label 0 추가 \n"
      ]
    },
    {
      "cell_type": "markdown",
      "metadata": {
        "id": "60GPpHeygUCa",
        "colab_type": "text"
      },
      "source": [
        "이후 Colab facedetect.ipynb > \n",
        "C:\\Users\\myson\\models-master\\research\\object_detection\\0502.ipynb\n",
        "\n",
        "\n",
        "C:\\Users\\myson\\에 다운로드 1. opencv-master (haarcascade classifier for face, eye detection ) 2. model-master (tensorflow, object_detection folder 내  파이썬 파일이 from *utils* import * 가능 )"
      ]
    },
    {
      "cell_type": "code",
      "metadata": {
        "id": "WegeynDZeNwL",
        "colab_type": "code",
        "colab": {}
      },
      "source": [
        ""
      ],
      "execution_count": 0,
      "outputs": []
    }
  ]
}